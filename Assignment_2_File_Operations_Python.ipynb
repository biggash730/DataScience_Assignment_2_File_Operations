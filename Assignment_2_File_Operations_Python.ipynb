{
  "nbformat": 4,
  "nbformat_minor": 0,
  "metadata": {
    "colab": {
      "name": "Assignment_2_File-Operations_Python.ipynb",
      "provenance": [],
      "collapsed_sections": [],
      "toc_visible": true
    },
    "kernelspec": {
      "name": "python3",
      "display_name": "Python 3"
    },
    "language_info": {
      "name": "python"
    }
  },
  "cells": [
    {
      "cell_type": "markdown",
      "metadata": {
        "id": "MTDTZYhy41Yf"
      },
      "source": [
        "#Assignment 1 - File Operations In Python\n",
        "\n",
        "##This assignment demonstrates some file operations in python"
      ]
    },
    {
      "cell_type": "markdown",
      "metadata": {
        "id": "W-iQzuqf5Sn5"
      },
      "source": [
        "### 1. Opening Files\n",
        "\n",
        "#### The **open()** function takes two parameters; filename, and mode.\n",
        "#### There are four different methods (modes) for opening a file:\n",
        "\n",
        "#### \"r\" - Read - Default value. Opens a file for reading, error if the file does not exist\n",
        "\n",
        "#### \"a\" - Append - Opens a file for appending, creates the file if it does not exist\n",
        "\n",
        "#### \"w\" - Write - Opens a file for writing, creates the file if it does not exist\n",
        "\n",
        "#### \"x\" - Create - Creates the specified file, returns an error if the file exists"
      ]
    },
    {
      "cell_type": "code",
      "metadata": {
        "id": "h3RBaAJe6vKf"
      },
      "source": [
        "tally_cab_data = open(\"tally_cab.csv\")\n",
        "#or\n",
        "#tally_cab_data = open(\"tally_cab.csv\", \"r\")"
      ],
      "execution_count": 8,
      "outputs": []
    },
    {
      "cell_type": "markdown",
      "metadata": {
        "id": "SNFqiCYk69eV"
      },
      "source": [
        "### 2. Reading Files\n",
        "\n",
        "#### The read() function is used to read the content of the file\n",
        "#### The open() function returns a file object, which has a read() method for reading the content of the file\n",
        "\n"
      ]
    },
    {
      "cell_type": "code",
      "metadata": {
        "colab": {
          "base_uri": "https://localhost:8080/"
        },
        "id": "thOB4kEz4seP",
        "outputId": "a39158f9-3b7a-46ab-9f17-97d7b22cd56a"
      },
      "source": [
        "#print(tally_cab_data.read())\n",
        "\n",
        "#By default the read() method returns the whole text, but you can also specify how many characters you want to return:\n",
        "\n",
        "print(tally_cab_data.read(3))"
      ],
      "execution_count": 7,
      "outputs": [
        {
          "output_type": "stream",
          "text": [
            "\"Di\n"
          ],
          "name": "stdout"
        }
      ]
    },
    {
      "cell_type": "markdown",
      "metadata": {
        "id": "vzd6s2zi801S"
      },
      "source": [
        "### 3. ReadLine\n",
        "#### You can return one line by using the readline() method\n",
        "#### By calling readline() two times, you can read the two first lines\n"
      ]
    },
    {
      "cell_type": "code",
      "metadata": {
        "colab": {
          "base_uri": "https://localhost:8080/"
        },
        "id": "Otr-9Y-99LJX",
        "outputId": "71319989-76b3-40cd-9cf2-97dc82ad7239"
      },
      "source": [
        "print(tally_cab_data.readline())\n",
        "print(tally_cab_data.readline())"
      ],
      "execution_count": 9,
      "outputs": [
        {
          "output_type": "stream",
          "text": [
            "\"Distance (miles)\", \"Fare ($)\"\n",
            "\n",
            " 4.5,   18.00\n",
            "\n"
          ],
          "name": "stdout"
        }
      ]
    },
    {
      "cell_type": "markdown",
      "metadata": {
        "id": "sxgpUBK_-S7z"
      },
      "source": [
        "### 4. Write to an Existing File\n",
        "\n",
        "#### To write to an existing file, you must add a parameter to the open() function \n",
        "#### \"a\" - Append - will append to the end of the file\n",
        "#### \"w\" - Write - will overwrite any existing content"
      ]
    },
    {
      "cell_type": "code",
      "metadata": {
        "id": "dJWBEa9_-qXa"
      },
      "source": [
        "new_file = open(\"new_file_1.txt\", \"a\")\n",
        "new_file.write(\"This is a new text x.\")\n",
        "new_file.close()\n",
        "\n",
        "new_file = open(\"new_file_1.txt\", \"w\")\n",
        "new_file.write(\"The content has been replaced\")\n",
        "new_file.close()\n"
      ],
      "execution_count": 13,
      "outputs": []
    },
    {
      "cell_type": "markdown",
      "metadata": {
        "id": "y2-wMJNpADyw"
      },
      "source": [
        "### 5. Create a New File\n",
        "\n",
        "#### To create a new file in Python, use the open() method, with one of the following parameters\n",
        "#### \"x\" - Create - will create a file, returns an error if the file exist\n",
        "#### \"a\" - Append - will create a file if the specified file does not exist\n",
        "### \"w\" - Write - will create a file if the specified file does not exist"
      ]
    },
    {
      "cell_type": "code",
      "metadata": {
        "id": "tmChJ_45AZx_"
      },
      "source": [
        "#another_new_file = open(\"new_file_2.txt\", \"x\")\n",
        "\n",
        "#another_new_file = open(\"new_file_2.txt\", \"a\")\n",
        "\n",
        "another_new_file = open(\"new_file_2.txt\", \"w\")"
      ],
      "execution_count": 19,
      "outputs": []
    },
    {
      "cell_type": "markdown",
      "metadata": {
        "id": "I5uz8QV7Av6a"
      },
      "source": [
        "### 6. Delete a File\n",
        "\n",
        "#### To delete a file, you must import the OS module, and run its os.remove() function"
      ]
    },
    {
      "cell_type": "code",
      "metadata": {
        "id": "zSdfkveAA_LP"
      },
      "source": [
        "import os\n",
        "os.remove(\"new_file_2.txt\")\n",
        "\n",
        "\n",
        "# To delete an entire folder, use the os.rmdir() method\n",
        "\n",
        "#os.rmdir(\"myFolder\")\n",
        "\n",
        "\n",
        "#Check if file exists, then delete it\n",
        "\n",
        "#if os.path.exists(\"new_file_2.txt\"):\n",
        "  #os.remove(\"new_file_2.txt\")\n",
        "#else:\n",
        "  #print(\"The file does not exist\")\n"
      ],
      "execution_count": 20,
      "outputs": []
    },
    {
      "cell_type": "markdown",
      "metadata": {
        "id": "oLo9qguO9d1d"
      },
      "source": [
        "### 7. Close File\n",
        "#### It is a good practice to always close the file when you are done with it.\n",
        "#### Always close the file when you are finish with it.**bold text**"
      ]
    },
    {
      "cell_type": "code",
      "metadata": {
        "id": "Dbo3dGLI-BLL"
      },
      "source": [
        "tally_cab_data.close()\n",
        "new_file.close()\n",
        "another_new_file.close()"
      ],
      "execution_count": 29,
      "outputs": []
    },
    {
      "cell_type": "code",
      "metadata": {
        "id": "pWdmMTUv8AC2"
      },
      "source": [
        ""
      ],
      "execution_count": 7,
      "outputs": []
    }
  ]
}